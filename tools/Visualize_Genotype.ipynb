{
 "cells": [
  {
   "cell_type": "markdown",
   "id": "finished-carpet",
   "metadata": {},
   "source": [
    "# Code to automatically visualize a Genotype\n",
    "At the moment only works for DAGs with the restriction of 2 incoming edges per node"
   ]
  },
  {
   "cell_type": "code",
   "execution_count": 13,
   "id": "democratic-allowance",
   "metadata": {},
   "outputs": [],
   "source": [
    "import graphviz\n",
    "from collections import namedtuple"
   ]
  },
  {
   "cell_type": "markdown",
   "id": "overall-integral",
   "metadata": {},
   "source": [
    "## Definition of the genotype that should get visualized"
   ]
  },
  {
   "cell_type": "code",
   "execution_count": 4,
   "id": "unusual-renewal",
   "metadata": {},
   "outputs": [],
   "source": [
    "Genotype = namedtuple(\"Genotype\", \"normal normal_concat reduce reduce_concat\")\n",
    "genotype = Genotype(\n",
    "    normal=[\n",
    "        ('sep_conv_3x3', 1),\n",
    "        ('sep_conv_5x5', 0),\n",
    "        ('sep_conv_3x3', 2),\n",
    "        ('sep_conv_5x5', 1),\n",
    "        ('sep_conv_3x3', 1),\n",
    "        ('sep_conv_3x3', 2),\n",
    "        ('skip_connect', 3),\n",
    "        ('dil_conv_3x3', 0)],\n",
    "    normal_concat=range(2,6),\n",
    "    reduce=[\n",
    "        ('max_pool_3x3', 1),\n",
    "        ('sep_conv_3x3', 0),\n",
    "        ('max_pool_3x3', 2),\n",
    "        ('sep_conv_5x5', 1),\n",
    "        ('sep_conv_5x5', 1),\n",
    "        ('max_pool_3x3', 3),\n",
    "        ('sep_conv_5x5', 1),\n",
    "        ('sep_conv_5x5', 3)],\n",
    "    reduce_concat=range(2,6)\n",
    ")"
   ]
  },
  {
   "cell_type": "markdown",
   "id": "female-hearing",
   "metadata": {},
   "source": [
    "## Definition of some constants"
   ]
  },
  {
   "cell_type": "code",
   "execution_count": 6,
   "id": "understood-beatles",
   "metadata": {},
   "outputs": [],
   "source": [
    "incoming_edges_per_node = 2"
   ]
  },
  {
   "cell_type": "markdown",
   "id": "metric-google",
   "metadata": {},
   "source": [
    "## The code"
   ]
  },
  {
   "cell_type": "code",
   "execution_count": 49,
   "id": "experienced-crossing",
   "metadata": {},
   "outputs": [],
   "source": [
    "def __add_nodes(dag, number_nodes):\n",
    "    \"\"\"Adds the given number of nodes to the given DAG.\n",
    "    \n",
    "    Args:\n",
    "        dag (Digraph): The DAG where nodes should be added to.\n",
    "        number_nodes (int): The number of nodes that should get added to the DAG\n",
    "    \"\"\"\n",
    "    for i in range(number_nodes):\n",
    "        if i in [0, 1]:\n",
    "            dag.node(str(i), str(i), pos=f\"0,{i}!\", pin=\"true\")\n",
    "        else:\n",
    "             dag.node(str(i), str(i))\n",
    "        \n",
    "        \n",
    "def __add_edges(dag, edges, concat, output_node):\n",
    "    \"\"\"Adds the given edges to the given DAG.\n",
    "    \n",
    "    Args:\n",
    "        dag (Digraph): The DAG where edges should be added to.\n",
    "        edges (list of tuple of (str, int)): List containing all edges that should be added to the DAG.\n",
    "        concat (list of int): List containing the nodes who's output should get combined to form the output.\n",
    "        output_node (int): Index of the output node.\n",
    "    \"\"\"\n",
    "    edge_counter = 0\n",
    "    current_node = 2 # nodes 0 and 1 are input nodes\n",
    "    for edge in edges:\n",
    "        edge_counter += 1\n",
    "        dag.edge(str(edge[1]), str(current_node), label=edge[0])\n",
    "        if edge_counter % incoming_edges_per_node == 0:\n",
    "            current_node += 1\n",
    "    \n",
    "    # edges to output node\n",
    "    for node in concat:\n",
    "        dag.edge(str(node), str(output_node))\n",
    "        \n",
    "\n",
    "def visualize_genotype(genotype):\n",
    "    \"\"\"Creates two DAG plots, one for the normal cell and one for the reduce cell.\n",
    "    \n",
    "    Args:\n",
    "        genotype (namedtuple): Contains the genotype information. See gaea code.\n",
    "        \n",
    "    Returns:\n",
    "        tuple of Digraph: Tuple containing the normal cell and reduction cell digraphs\n",
    "    \"\"\"\n",
    "    \n",
    "    dag_normal = graphviz.Digraph(\"Normal Cell\", engine=\"neato\", format=\"png\")\n",
    "    dag_normal.attr('node', shape='circle')\n",
    "    dag_reduce = graphviz.Digraph(\"Reduce Cell\", engine=\"neato\", format=\"png\")\n",
    "    dag_reduce.attr('node', shape='circle')\n",
    "    # create nodes, 3 corresponds to 2 input nodes and 1 output node\n",
    "    nodes_normal = int(len(genotype.normal)/incoming_edges_per_node + 3)\n",
    "    nodes_reduce = int(len(genotype.reduce)/incoming_edges_per_node + 3)\n",
    "    __add_nodes(dag_normal, nodes_normal)\n",
    "    __add_nodes(dag_reduce, nodes_reduce)\n",
    "        \n",
    "    # create edges\n",
    "    __add_edges(dag_normal, genotype.normal, genotype.normal_concat, nodes_normal-1)\n",
    "    __add_edges(dag_reduce, genotype.reduce, genotype.reduce_concat, nodes_reduce-1)\n",
    "    \n",
    "    return (dag_normal, dag_reduce)"
   ]
  },
  {
   "cell_type": "markdown",
   "id": "fifteen-exclusion",
   "metadata": {},
   "source": [
    "## Test"
   ]
  },
  {
   "cell_type": "code",
   "execution_count": 50,
   "id": "loved-comparison",
   "metadata": {},
   "outputs": [],
   "source": [
    "cell_normal, cell_reduce = visualize_genotype(genotype)"
   ]
  },
  {
   "cell_type": "code",
   "execution_count": 57,
   "id": "placed-production",
   "metadata": {},
   "outputs": [
    {
     "data": {
      "text/plain": [
       "'normal_cell.pdf'"
      ]
     },
     "execution_count": 57,
     "metadata": {},
     "output_type": "execute_result"
    }
   ],
   "source": [
    "graphviz.Source(cell_normal)\n",
    "graphviz.Source(cell_normal).render('normal_cell')"
   ]
  },
  {
   "cell_type": "code",
   "execution_count": 58,
   "id": "dressed-nashville",
   "metadata": {},
   "outputs": [
    {
     "data": {
      "text/plain": [
       "'reduce_cell.pdf'"
      ]
     },
     "execution_count": 58,
     "metadata": {},
     "output_type": "execute_result"
    }
   ],
   "source": [
    "graphviz.Source(cell_reduce)\n",
    "graphviz.Source(cell_reduce).render(\"reduce_cell\")"
   ]
  },
  {
   "cell_type": "code",
   "execution_count": null,
   "id": "educational-storage",
   "metadata": {},
   "outputs": [],
   "source": []
  }
 ],
 "metadata": {
  "kernelspec": {
   "display_name": "Python 3",
   "language": "python",
   "name": "python3"
  },
  "language_info": {
   "codemirror_mode": {
    "name": "ipython",
    "version": 3
   },
   "file_extension": ".py",
   "mimetype": "text/x-python",
   "name": "python",
   "nbconvert_exporter": "python",
   "pygments_lexer": "ipython3",
   "version": "3.6.12"
  }
 },
 "nbformat": 4,
 "nbformat_minor": 5
}
