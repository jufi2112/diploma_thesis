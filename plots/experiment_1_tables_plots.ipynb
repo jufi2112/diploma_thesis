{
 "cells": [
  {
   "cell_type": "code",
   "execution_count": 1,
   "id": "c9e60021",
   "metadata": {},
   "outputs": [
    {
     "name": "stdout",
     "output_type": "stream",
     "text": [
      "Torch version: 1.7.1\n"
     ]
    }
   ],
   "source": [
    "import os\n",
    "import sys\n",
    "sys.path.append(os.path.join('D:', os.sep, 'Users', 'Julien', 'Documents', 'GitHub', 'diploma_thesis', 'cnn'))\n",
    "import numpy as np\n",
    "import torch\n",
    "print(f'Torch version: {torch.__version__}')\n",
    "from collections import namedtuple\n",
    "Genotype = namedtuple(\"Genotype\", \"normal normal_concat reduce reduce_concat\")\n",
    "from datetime import timedelta"
   ]
  },
  {
   "cell_type": "markdown",
   "id": "c12fb7b7",
   "metadata": {},
   "source": [
    "# Constants"
   ]
  },
  {
   "cell_type": "code",
   "execution_count": 2,
   "id": "70238040",
   "metadata": {},
   "outputs": [],
   "source": [
    "gpu = \"v100\"\n",
    "seeds = [1124, 2554, 3141, 5520, 7478]\n",
    "main_dir = os.path.join('H:', os.sep, 'DA_Results')"
   ]
  },
  {
   "cell_type": "markdown",
   "id": "26a589c7",
   "metadata": {},
   "source": [
    "# Load Checkpoints"
   ]
  },
  {
   "cell_type": "code",
   "execution_count": 28,
   "id": "05a3fc95",
   "metadata": {},
   "outputs": [
    {
     "name": "stdout",
     "output_type": "stream",
     "text": [
      "Searched initial channels: [4, 8, 12, 16, 20, 24, 28, 32, 36]\n"
     ]
    }
   ],
   "source": [
    "checkpoints_search = {seed: torch.load(os.path.join(main_dir, 'exp_1_data-shuffle_false', gpu, 'grid_search-batch_size_256', f'search_phase_seed_{seed}', 'outer_loop.ckpt')) for seed in seeds}\n",
    "checkpoints_eval_psi_same = {seed: torch.load(os.path.join(main_dir, 'exp_1_data-shuffle_false', gpu, 'grid_search-batch_size_256', f'evaluation_phase_seed_{seed}', 'outer_loop.ckpt')) for seed in seeds}\n",
    "checkpoints_eval_psi_const = {seed: torch.load(os.path.join(main_dir, 'exp_1_data-shuffle_false_constant_channels', gpu, 'grid_search-batch_size_256', f'evaluation_phase_seed_{seed}', 'outer_loop.ckpt')) for seed in seeds}\n",
    "all_checkpoints = [checkpoints_search, checkpoints_eval_psi_same, checkpoints_eval_psi_const]\n",
    "\n",
    "init_channels_searched = []\n",
    "for ckpt in all_checkpoints:\n",
    "    for seed in seeds:\n",
    "        channels = []\n",
    "        for init_channels, values in ckpt[seed]['history'].items():\n",
    "            if any(['error' in x for x in values.keys()]):\n",
    "                continue\n",
    "            else:\n",
    "                channels.append(init_channels)\n",
    "                \n",
    "        init_channels_searched.append(channels)\n",
    "        \n",
    "assert init_channels_searched.count(init_channels_searched[0]) == len(init_channels_searched), \"Different channels evaluated\"\n",
    "init_channels_searched = init_channels_searched[0]\n",
    "print(f\"Searched initial channels: {init_channels_searched}\")"
   ]
  },
  {
   "cell_type": "code",
   "execution_count": 33,
   "id": "303527b0",
   "metadata": {},
   "outputs": [
    {
     "data": {
      "text/plain": [
       "{'checkpoint_path': '/beegfs/global0/ws/s8732099-diploma_thesis/experiments_da/exp_1_data-shuffle_false_constant_channels/v100/grid_search-batch_size_256/evaluation_phase_seed_1124/checkpoints/checkpoint_init_channels_24/model_best.ckpt',\n",
       " 'best_weights_train_time': 24410.579350595362,\n",
       " 'train_acc': 99.875,\n",
       " 'valid_acc': 96.44071960449219,\n",
       " 'overall_eval_time': 24782.956365794875,\n",
       " 'max_mem_allocated_MB': 9432.649216,\n",
       " 'max_mem_reserved_MB': 10427.039744,\n",
       " 'model_parameters': 3285120}"
      ]
     },
     "execution_count": 33,
     "metadata": {},
     "output_type": "execute_result"
    }
   ],
   "source": [
    "all_checkpoints[2][seeds[0]]['history'][24]"
   ]
  },
  {
   "cell_type": "code",
   "execution_count": 34,
   "id": "c71e97ad",
   "metadata": {},
   "outputs": [
    {
     "data": {
      "text/plain": [
       "{'best_genotype': Genotype(normal=[('skip_connect', 0), ('skip_connect', 1), ('skip_connect', 2), ('sep_conv_3x3', 1), ('skip_connect', 3), ('sep_conv_5x5', 1), ('sep_conv_3x3', 0), ('max_pool_3x3', 4)], normal_concat=range(2, 6), reduce=[('max_pool_3x3', 0), ('sep_conv_3x3', 1), ('sep_conv_5x5', 2), ('sep_conv_5x5', 1), ('max_pool_3x3', 2), ('max_pool_3x3', 0), ('sep_conv_5x5', 2), ('sep_conv_5x5', 4)], reduce_concat=range(2, 6)),\n",
       " 'best_genotype_search_time': 13069.953314775601,\n",
       " 'search_train_acc': 93.305,\n",
       " 'search_valid_acc': 85.06,\n",
       " 'overall_search_time': 13641.48736474663,\n",
       " 'max_mem_allocated_MB': 17215.468544,\n",
       " 'max_mem_reserved_MB': 19425.918976}"
      ]
     },
     "execution_count": 34,
     "metadata": {},
     "output_type": "execute_result"
    }
   ],
   "source": [
    "all_checkpoints[0][seeds[0]]['history'][24]"
   ]
  },
  {
   "cell_type": "markdown",
   "id": "44a02279",
   "metadata": {},
   "source": [
    "# Variable to store the parsed checkpoints"
   ]
  },
  {
   "cell_type": "code",
   "execution_count": 35,
   "id": "070ceba1",
   "metadata": {},
   "outputs": [],
   "source": [
    "results_averaged = {x: {} for x in [\"search\", \"same\", \"const\"]}"
   ]
  },
  {
   "cell_type": "markdown",
   "id": "eea1d8d7",
   "metadata": {},
   "source": [
    "# Parse checkpoints and average"
   ]
  },
  {
   "cell_type": "code",
   "execution_count": 44,
   "id": "37d91bfb",
   "metadata": {},
   "outputs": [],
   "source": [
    "for i, ckpt in enumerate(all_checkpoints):\n",
    "    search = False\n",
    "    if i == 0:\n",
    "        search = True\n",
    "    # for mean / std calculation\n",
    "    all_seeds_train = {channels: [] for channels in init_channels_searched}\n",
    "    all_seeds_valid = {channels: [] for channels in init_channels_searched}\n",
    "    all_seeds_runtime = {channels: [] for channels in init_channels_searched}\n",
    "    all_seeds_mem = {channels: [] for channels in init_channels_searched}\n",
    "    if not search:\n",
    "        all_seeds_parameters = {channels: [] for channels in init_channels_searched}\n",
    "\n",
    "    for seed in seeds: \n",
    "        for init_channels in init_channels_searched:\n",
    "            vals = ckpt[seed]['history'][init_channels]\n",
    "            all_seeds_train[init_channels].append(vals['search_train_acc'] if search else vals['train_acc'])\n",
    "            all_seeds_valid[init_channels].append(vals['search_valid_acc'] if search else vals['valid_acc'])\n",
    "            all_seeds_runtime[init_channels].append(vals['overall_search_time'] if search else vals['overall_eval_time'])\n",
    "            all_seeds_mem[init_channels].append(vals['max_mem_allocated_MB'])\n",
    "            if not search:\n",
    "                all_seeds_parameters[init_channels].append(vals['model_parameters'])\n",
    "\n",
    "    for init_channels in init_channels_searched:\n",
    "        train = np.asarray(all_seeds_train[init_channels])\n",
    "        valid = np.asarray(all_seeds_valid[init_channels])\n",
    "        runtime = np.asarray(all_seeds_runtime[init_channels])\n",
    "        mem = np.asarray(all_seeds_mem[init_channels])\n",
    "        if not search:\n",
    "            parameters = np.asarray(all_seeds_parameters[init_channels])\n",
    "\n",
    "        # Average --> mean / std\n",
    "        results_averaged[list(results_averaged.keys())[i]][init_channels] = {\n",
    "            'train': {\n",
    "                'mean': np.mean(train),\n",
    "                'std': np.std(train)\n",
    "            },\n",
    "            'valid': {\n",
    "                'mean': np.mean(valid),\n",
    "                'std': np.std(valid)\n",
    "            },\n",
    "            'mem': {\n",
    "                'mean': np.mean(mem),\n",
    "                'std': np.std(mem)\n",
    "            },\n",
    "            'runtime': {\n",
    "                'mean': str(timedelta(seconds=np.mean(runtime))).split('.')[0],\n",
    "                'std': str(timedelta(seconds=np.std(runtime))).split('.')[0]\n",
    "            }\n",
    "        }\n",
    "        if not search:\n",
    "            results_averaged[list(results_averaged.keys())[i]][init_channels]['parameters'] = {\n",
    "                'mean': np.mean(parameters),\n",
    "                'std': np.std(parameters)\n",
    "            }"
   ]
  },
  {
   "cell_type": "markdown",
   "id": "29cbc2ff",
   "metadata": {},
   "source": [
    "# Latex average table for search phase"
   ]
  },
  {
   "cell_type": "code",
   "execution_count": 65,
   "id": "f4dc1088",
   "metadata": {},
   "outputs": [
    {
     "name": "stdout",
     "output_type": "stream",
     "text": [
      "$\\zeta_\\mathrm{search}$ & Runtime (h:mm:ss) & $\\text{GPU Mem (MiB)}^\\dagger$ & train\\_error (\\%) & valid\\_error (\\%) \\\\ \\midrule\n",
      "$4$ & $6:18:09 \\pm 0:16:03$ & $2900.58 \\pm 0.0$ & $24.46 \\pm 1.01$ & $26.58 \\pm 1.09$ \\\\\n",
      "$8$ & $3:24:33 \\pm 0:07:16$ & $5715.9 \\pm 2.87$ & $15.5 \\pm 1.01$ & $20.0 \\pm 0.74$ \\\\\n",
      "$12$ & $3:32:24 \\pm 0:06:13$ & $8665.62 \\pm 2.69$ & $11.0 \\pm 0.22$ & $17.29 \\pm 0.28$ \\\\\n",
      "$16$ & $3:35:21 \\pm 0:00:57$ & $11339.04 \\pm 3.17$ & $8.66 \\pm 0.26$ & $15.81 \\pm 0.37$ \\\\\n",
      "$20$ & $3:43:51 \\pm 0:02:45$ & $14170.99 \\pm 0.7$ & $7.07 \\pm 0.21$ & $15.18 \\pm 0.18$ \\\\\n",
      "$24$ & $3:48:55 \\pm 0:01:40$ & $17225.49 \\pm 8.18$ & $6.16 \\pm 0.51$ & $14.76 \\pm 0.4$ \\\\\n",
      "$28$ & $3:54:05 \\pm 0:00:32$ & $20263.51 \\pm 4.98$ & $5.21 \\pm 0.21$ & $14.48 \\pm 0.3$ \\\\\n",
      "$32$ & $3:59:46 \\pm 0:02:18$ & $22603.51 \\pm 0.7$ & $4.6 \\pm 0.36$ & $14.22 \\pm 0.24$ \\\\\n",
      "$36$ & $4:07:34 \\pm 0:01:17$ & $25433.23 \\pm 7.85$ & $4.09 \\pm 0.19$ & $13.6 \\pm 0.13$ \\\\ \\bottomrule\n"
     ]
    }
   ],
   "source": [
    "bottomrule = \" \\\\bottomrule\"\n",
    "print(\"$\\zeta_\\mathrm{search}$ & Runtime (h:mm:ss) & $\\\\text{GPU Mem (MiB)}^\\dagger$ & train\\_error (\\%) & valid\\_error (\\%) \\\\\\\\ \\midrule\")\n",
    "for i, init_channels in enumerate(init_channels_searched):\n",
    "    print(\n",
    "        f\"${init_channels}$ & \"\n",
    "        f\"${results_averaged['search'][init_channels]['runtime']['mean']} \\\\pm {results_averaged['search'][init_channels]['runtime']['std']}$ & \"\n",
    "        f\"${round(results_averaged['search'][init_channels]['mem']['mean'], 2)} \\\\pm {round(results_averaged['search'][init_channels]['mem']['std'], 2)}$ & \"\n",
    "        f\"${round(100 - results_averaged['search'][init_channels]['train']['mean'], 2)} \\\\pm {round(results_averaged['search'][init_channels]['train']['std'], 2)}$ & \"\n",
    "        f\"${round(100 - results_averaged['search'][init_channels]['valid']['mean'], 2)} \\\\pm {round(results_averaged['search'][init_channels]['valid']['std'], 2)}$ \\\\\\\\\"\n",
    "        f\"{bottomrule if i == len(init_channels_searched)-1 else ''}\"\n",
    "    )"
   ]
  },
  {
   "cell_type": "markdown",
   "id": "0e0ea6ab",
   "metadata": {},
   "source": [
    "# Latex average table for same and constant evaluation phases"
   ]
  },
  {
   "cell_type": "code",
   "execution_count": 66,
   "id": "eeb894e5",
   "metadata": {},
   "outputs": [
    {
     "name": "stdout",
     "output_type": "stream",
     "text": [
      "$\\zeta_\\mathrm{search}$ & $\\zeta_\\mathrm{eval}$ & Runtime (h:mm:ss) & $\\text{GPU Mem (MiB)}^\\dagger$ & Parameters & train\\_error (\\%) & valid\\_error (\\%) \\\\ \\midrule\n",
      "$4$ & $4$ & $9:08:02 \\pm 0:54:53$ & $1382.15 \\pm 125.94$ &$499347.2 \\pm 7236.06$ & $6.04 \\pm 1.42$ & $7.92 \\pm 0.97$ \\\\\n",
      "$8$ & $8$ & $8:11:34 \\pm 1:03:06$ & $2519.67 \\pm 330.78$ &$641557.6 \\pm 26761.96$ & $2.42 \\pm 0.36$ & $6.31 \\pm 0.3$ \\\\\n",
      "$12$ & $12$ & $8:54:22 \\pm 1:30:13$ & $4158.42 \\pm 596.3$ &$892545.6 \\pm 59737.33$ & $0.95 \\pm 0.34$ & $4.99 \\pm 0.39$ \\\\\n",
      "$16$ & $16$ & $8:40:29 \\pm 1:41:06$ & $5108.71 \\pm 697.58$ &$1166967.2 \\pm 88077.44$ & $0.78 \\pm 0.3$ & $4.74 \\pm 0.33$ \\\\\n",
      "$20$ & $20$ & $8:52:10 \\pm 0:37:33$ & $6445.07 \\pm 422.24$ &$1589392.0 \\pm 83851.02$ & $0.51 \\pm 0.36$ & $4.44 \\pm 0.34$ \\\\\n",
      "$24$ & $24$ & $7:30:57 \\pm 0:52:12$ & $6754.9 \\pm 652.04$ &$1841340.0 \\pm 151612.37$ & $0.32 \\pm 0.14$ & $3.94 \\pm 0.13$ \\\\\n",
      "$28$ & $28$ & $8:02:28 \\pm 2:06:23$ & $8509.68 \\pm 1870.82$ &$2412329.6 \\pm 438818.59$ & $0.26 \\pm 0.07$ & $4.06 \\pm 0.24$ \\\\\n",
      "$32$ & $32$ & $8:37:21 \\pm 0:21:37$ & $9957.77 \\pm 233.52$ &$3104679.2 \\pm 162253.64$ & $0.22 \\pm 0.1$ & $3.97 \\pm 0.23$ \\\\\n",
      "$36$ & $36$ & $8:32:41 \\pm 1:48:20$ & $10614.1 \\pm 2197.7$ &$3718113.6 \\pm 621149.9$ & $0.29 \\pm 0.08$ & $3.91 \\pm 0.18$ \\\\ \\midrule\n",
      "$4$ & $36$ & $9:59:34 \\pm 1:17:43$ & $12382.84 \\pm 1136.36$ &$4296000.0 \\pm 290417.35$ & $0.23 \\pm 0.1$ & $3.76 \\pm 0.31$ \\\\\n",
      "$8$ & $36$ & $8:47:34 \\pm 0:56:31$ & $11322.14 \\pm 1491.43$ &$3867499.2 \\pm 364110.44$ & $0.22 \\pm 0.05$ & $4.04 \\pm 0.08$ \\\\\n",
      "$12$ & $36$ & $9:20:29 \\pm 1:38:32$ & $12247.41 \\pm 1751.12$ &$4036540.8 \\pm 445535.22$ & $0.19 \\pm 0.07$ & $3.86 \\pm 0.31$ \\\\\n",
      "$16$ & $36$ & $8:53:08 \\pm 1:20:51$ & $11509.37 \\pm 1572.2$ &$3842659.2 \\pm 377278.15$ & $0.22 \\pm 0.15$ & $3.92 \\pm 0.14$ \\\\\n",
      "$20$ & $36$ & $9:07:56 \\pm 0:41:47$ & $11612.35 \\pm 760.67$ &$3934848.0 \\pm 237945.31$ & $0.25 \\pm 0.1$ & $4.04 \\pm 0.18$ \\\\\n",
      "$24$ & $36$ & $7:54:33 \\pm 1:20:37$ & $10140.49 \\pm 979.28$ &$3484531.2 \\pm 304098.53$ & $0.16 \\pm 0.04$ & $3.69 \\pm 0.16$ \\\\\n",
      "$28$ & $36$ & $8:17:15 \\pm 1:57:41$ & $10949.5 \\pm 2407.85$ &$3631800.0 \\pm 698244.65$ & $0.21 \\pm 0.07$ & $3.88 \\pm 0.17$ \\\\\n",
      "$32$ & $36$ & $9:02:18 \\pm 0:54:17$ & $11208.3 \\pm 262.53$ &$3779587.2 \\pm 200023.16$ & $0.2 \\pm 0.07$ & $3.94 \\pm 0.19$ \\\\\n",
      "$36$ & $36$ & $8:50:59 \\pm 1:40:12$ & $10614.1 \\pm 2197.7$ &$3718113.6 \\pm 621149.9$ & $0.29 \\pm 0.08$ & $3.91 \\pm 0.18$ \\\\ \\bottomrule\n"
     ]
    }
   ],
   "source": [
    "midrule = \" \\midrule\"\n",
    "bottomrule = \" \\\\bottomrule\"\n",
    "print(\"$\\zeta_\\mathrm{search}$ & $\\zeta_\\mathrm{eval}$ & Runtime (h:mm:ss) & $\\\\text{GPU Mem (MiB)}^\\dagger$ & Parameters & train\\_error (\\%) & valid\\_error (\\%) \\\\\\\\ \\midrule\")\n",
    "for Psi in [\"same\", \"const\"]:\n",
    "    for i, init_channels in enumerate(init_channels_searched):\n",
    "        print(\n",
    "            f\"${init_channels}$ & ${init_channels if Psi == 'same' else 36}$ & \"\n",
    "            f\"${results_averaged[Psi][init_channels]['runtime']['mean']} \\\\pm {results_averaged[Psi][init_channels]['runtime']['std']}$ & \"\n",
    "            f\"${round(results_averaged[Psi][init_channels]['mem']['mean'], 2)} \\\\pm {round(results_averaged[Psi][init_channels]['mem']['std'], 2)}$ &\"\n",
    "            f\"${round(results_averaged[Psi][init_channels]['parameters']['mean'], 2)} \\\\pm {round(results_averaged[Psi][init_channels]['parameters']['std'], 2)}$ & \"\n",
    "            f\"${round(100 - results_averaged[Psi][init_channels]['train']['mean'], 2)} \\\\pm {round(results_averaged[Psi][init_channels]['train']['std'], 2)}$ & \"\n",
    "            f\"${round(100 - results_averaged[Psi][init_channels]['valid']['mean'], 2)} \\\\pm {round(results_averaged[Psi][init_channels]['valid']['std'], 2)}$ \\\\\\\\\"\n",
    "            f\"{midrule if (i == len(init_channels_searched)-1) and (Psi == 'same') else ''}{bottomrule if (i == len(init_channels_searched)-1) and (Psi == 'const') else ''}\"\n",
    "        )"
   ]
  },
  {
   "cell_type": "markdown",
   "id": "581b4fec",
   "metadata": {},
   "source": [
    "# Plots for search phase"
   ]
  },
  {
   "cell_type": "code",
   "execution_count": null,
   "id": "938f60e5",
   "metadata": {},
   "outputs": [],
   "source": []
  }
 ],
 "metadata": {
  "kernelspec": {
   "display_name": "Python 3",
   "language": "python",
   "name": "python3"
  },
  "language_info": {
   "codemirror_mode": {
    "name": "ipython",
    "version": 3
   },
   "file_extension": ".py",
   "mimetype": "text/x-python",
   "name": "python",
   "nbconvert_exporter": "python",
   "pygments_lexer": "ipython3",
   "version": "3.7.4"
  }
 },
 "nbformat": 4,
 "nbformat_minor": 5
}
